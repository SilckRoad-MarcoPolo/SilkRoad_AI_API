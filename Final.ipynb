{
 "cells": [
  {
   "cell_type": "markdown",
   "id": "09db4ff1",
   "metadata": {},
   "source": [
    "# Loading Data"
   ]
  },
  {
   "cell_type": "code",
   "execution_count": 54,
   "id": "b445c7a8",
   "metadata": {},
   "outputs": [
    {
     "name": "stderr",
     "output_type": "stream",
     "text": [
      "[nltk_data] Downloading package punkt to\n",
      "[nltk_data]     C:\\Users\\user\\AppData\\Roaming\\nltk_data...\n",
      "[nltk_data]   Package punkt is already up-to-date!\n"
     ]
    }
   ],
   "source": [
    "import pandas as pd\n",
    "import re\n",
    "from nltk.tokenize import word_tokenize\n",
    "import nltk\n",
    "nltk.download('punkt')\n",
    "from ast import literal_eval\n",
    "from collections import Counter\n",
    "from itertools import combinations\n",
    "from sklearn.feature_extraction.text import TfidfVectorizer\n",
    "from sklearn.metrics.pairwise import cosine_similarity"
   ]
  },
  {
   "cell_type": "code",
   "execution_count": 55,
   "id": "61bc0751",
   "metadata": {},
   "outputs": [],
   "source": [
    "df = pd.read_csv('indeed_10k.csv')\n",
    "df = df.drop(columns=['Company', 'City', 'Ratings', 'Date'], axis=1)\n",
    "\n",
    "skills_df = pd.read_csv('skills.csv', header=None)\n",
    "skills_list = skills_df.iloc[0].dropna().tolist()"
   ]
  },
  {
   "cell_type": "markdown",
   "id": "ff920c09",
   "metadata": {},
   "source": [
    "# Feature Extraction "
   ]
  },
  {
   "cell_type": "code",
   "execution_count": 56,
   "id": "ec5ebaf8",
   "metadata": {},
   "outputs": [],
   "source": [
    "skills_list = [skill.strip() for skill in skills_list]\n",
    "skills_dict = {skill.lower(): skill for skill in skills_list if skill.lower() not in ['r', 'c']}\n",
    "skills_list_sorted = sorted(skills_list, key=len, reverse=True)\n",
    "\n",
    "\n",
    "def extract_skills(summary, skills_dict, skills_list_sorted):\n",
    "    summary = summary.lower()\n",
    "    extracted_skills = set()\n",
    "\n",
    "    # Look for the specific case of \"c/c++\" and add both \"c\" and \"c++\" to the extracted skills\n",
    "    if 'c/c++' in summary:\n",
    "        extracted_skills.add('c')\n",
    "        extracted_skills.add('c++')\n",
    "        # Remove \"c/c++\" from the summary\n",
    "        summary = summary.replace('c/c++', '')\n",
    "\n",
    "    # First loop to remove matching skills from the summary\n",
    "    for skill in skills_list_sorted:\n",
    "        skill_lower = skill.lower()\n",
    "        if skill_lower in summary and skill_lower not in ['r', 'c']:\n",
    "            extracted_skills.add(skill)\n",
    "            summary = summary.replace(skill_lower, '')\n",
    "\n",
    "    # Tokenize remaining summary to find more skills\n",
    "    tokens = word_tokenize(summary)\n",
    "    for token in tokens:\n",
    "        if token in skills_dict and token not in ['r', 'c']:\n",
    "            extracted_skills.add(skills_dict[token])\n",
    "\n",
    "    return list(extracted_skills)\n",
    "\n",
    "\n",
    "# Apply the extraction process to the DataFrame\n",
    "df['skills'] = df['Summary'].apply(lambda x: extract_skills(x, skills_dict, skills_list_sorted))\n",
    "\n",
    "# Filter out rows where no skills were extracted\n",
    "df = df[df['skills'].apply(lambda x: len(x) > 0)]\n",
    "df.reset_index(drop=True, inplace=True)\n",
    "\n",
    "df.to_csv('jobs_with_skills.csv', index=False)"
   ]
  },
  {
   "cell_type": "code",
   "execution_count": 57,
   "id": "2ca940f7",
   "metadata": {},
   "outputs": [
    {
     "data": {
      "text/html": [
       "<div>\n",
       "<style scoped>\n",
       "    .dataframe tbody tr th:only-of-type {\n",
       "        vertical-align: middle;\n",
       "    }\n",
       "\n",
       "    .dataframe tbody tr th {\n",
       "        vertical-align: top;\n",
       "    }\n",
       "\n",
       "    .dataframe thead th {\n",
       "        text-align: right;\n",
       "    }\n",
       "</style>\n",
       "<table border=\"1\" class=\"dataframe\">\n",
       "  <thead>\n",
       "    <tr style=\"text-align: right;\">\n",
       "      <th></th>\n",
       "      <th>Name</th>\n",
       "      <th>Summary</th>\n",
       "      <th>skills</th>\n",
       "    </tr>\n",
       "  </thead>\n",
       "  <tbody>\n",
       "    <tr>\n",
       "      <th>0</th>\n",
       "      <td>Entry level Software Engineer</td>\n",
       "      <td>Programming experience using C#, C++, or Java ...</td>\n",
       "      <td>['c#', 'c++', 'java']</td>\n",
       "    </tr>\n",
       "    <tr>\n",
       "      <th>1</th>\n",
       "      <td>Junior Software Engineer</td>\n",
       "      <td>Building new product features across the back ...</td>\n",
       "      <td>['javascript', 'python']</td>\n",
       "    </tr>\n",
       "    <tr>\n",
       "      <th>2</th>\n",
       "      <td>Software Engineer</td>\n",
       "      <td>Yammer-THE social network for workplace-is hir...</td>\n",
       "      <td>['scala', 'gin', 'Net', 'ai']</td>\n",
       "    </tr>\n",
       "    <tr>\n",
       "      <th>3</th>\n",
       "      <td>Software Engineer - Entry Level</td>\n",
       "      <td>You'll be expected to deliver in an agile envi...</td>\n",
       "      <td>['mobile', 'gin']</td>\n",
       "    </tr>\n",
       "    <tr>\n",
       "      <th>4</th>\n",
       "      <td>Software Engineer (Python)</td>\n",
       "      <td>Comfortable developing in Python (or similar)....</td>\n",
       "      <td>['gin', 'python']</td>\n",
       "    </tr>\n",
       "  </tbody>\n",
       "</table>\n",
       "</div>"
      ],
      "text/plain": [
       "                              Name  \\\n",
       "0    Entry level Software Engineer   \n",
       "1         Junior Software Engineer   \n",
       "2                Software Engineer   \n",
       "3  Software Engineer - Entry Level   \n",
       "4       Software Engineer (Python)   \n",
       "\n",
       "                                             Summary  \\\n",
       "0  Programming experience using C#, C++, or Java ...   \n",
       "1  Building new product features across the back ...   \n",
       "2  Yammer-THE social network for workplace-is hir...   \n",
       "3  You'll be expected to deliver in an agile envi...   \n",
       "4  Comfortable developing in Python (or similar)....   \n",
       "\n",
       "                          skills  \n",
       "0          ['c#', 'c++', 'java']  \n",
       "1       ['javascript', 'python']  \n",
       "2  ['scala', 'gin', 'Net', 'ai']  \n",
       "3              ['mobile', 'gin']  \n",
       "4              ['gin', 'python']  "
      ]
     },
     "execution_count": 57,
     "metadata": {},
     "output_type": "execute_result"
    }
   ],
   "source": [
    "df = pd.read_csv('jobs_with_skills.csv')\n",
    "df.head()"
   ]
  },
  {
   "cell_type": "code",
   "execution_count": 58,
   "id": "603571ec",
   "metadata": {},
   "outputs": [
    {
     "name": "stdout",
     "output_type": "stream",
     "text": [
      "<class 'pandas.core.frame.DataFrame'>\n",
      "RangeIndex: 8606 entries, 0 to 8605\n",
      "Data columns (total 3 columns):\n",
      " #   Column   Non-Null Count  Dtype \n",
      "---  ------   --------------  ----- \n",
      " 0   Name     8606 non-null   object\n",
      " 1   Summary  8606 non-null   object\n",
      " 2   skills   8606 non-null   object\n",
      "dtypes: object(3)\n",
      "memory usage: 201.8+ KB\n"
     ]
    }
   ],
   "source": [
    "df.info()"
   ]
  },
  {
   "cell_type": "markdown",
   "id": "31d76d83",
   "metadata": {},
   "source": [
    "# Data Cleaning & Preprocessing"
   ]
  },
  {
   "cell_type": "markdown",
   "id": "276c961c",
   "metadata": {},
   "source": [
    "## 1- Rmove rows where skills length <= 4 "
   ]
  },
  {
   "cell_type": "code",
   "execution_count": 59,
   "id": "8d02e818",
   "metadata": {},
   "outputs": [
    {
     "name": "stdout",
     "output_type": "stream",
     "text": [
      "Original dataset:\n",
      "Skills List Length Distribution:\n",
      "--------------------------------\n",
      "Lists with length 1: 2671 occurrences\n",
      "Lists with length 2: 1458 occurrences\n",
      "Lists with length 3: 1453 occurrences\n",
      "Lists with length 4: 1012 occurrences\n",
      "Lists with length 5: 463 occurrences\n",
      "Lists with length 6: 299 occurrences\n",
      "Lists with length 7: 250 occurrences\n",
      "Lists with length 8: 43 occurrences\n",
      "Lists with length 9: 61 occurrences\n",
      "Lists with length 10: 272 occurrences\n",
      "Lists with length 11: 74 occurrences\n",
      "Lists with length 12: 44 occurrences\n",
      "Lists with length 13: 130 occurrences\n",
      "Lists with length 14: 65 occurrences\n",
      "Lists with length 15: 59 occurrences\n",
      "Lists with length 16: 51 occurrences\n",
      "Lists with length 17: 53 occurrences\n",
      "Lists with length 18: 12 occurrences\n",
      "Lists with length 19: 31 occurrences\n",
      "Lists with length 20: 56 occurrences\n",
      "Lists with length 21: 2 occurrences\n",
      "Lists with length 22: 22 occurrences\n",
      "Lists with length 23: 13 occurrences\n",
      "Lists with length 26: 1 occurrence\n",
      "Lists with length 28: 4 occurrences\n",
      "Lists with length 29: 7 occurrences\n",
      "--------------------------------\n",
      "Total entries: 8606\n",
      "\n",
      "Processed dataset (after removing rows with 4 or fewer skills):\n",
      "Skills List Length Distribution:\n",
      "--------------------------------\n",
      "Lists with length 5: 463 occurrences\n",
      "Lists with length 6: 299 occurrences\n",
      "Lists with length 7: 250 occurrences\n",
      "Lists with length 8: 43 occurrences\n",
      "Lists with length 9: 61 occurrences\n",
      "Lists with length 10: 272 occurrences\n",
      "Lists with length 11: 74 occurrences\n",
      "Lists with length 12: 44 occurrences\n",
      "Lists with length 13: 130 occurrences\n",
      "Lists with length 14: 65 occurrences\n",
      "Lists with length 15: 59 occurrences\n",
      "Lists with length 16: 51 occurrences\n",
      "Lists with length 17: 53 occurrences\n",
      "Lists with length 18: 12 occurrences\n",
      "Lists with length 19: 31 occurrences\n",
      "Lists with length 20: 56 occurrences\n",
      "Lists with length 21: 2 occurrences\n",
      "Lists with length 22: 22 occurrences\n",
      "Lists with length 23: 13 occurrences\n",
      "Lists with length 26: 1 occurrence\n",
      "Lists with length 28: 4 occurrences\n",
      "Lists with length 29: 7 occurrences\n",
      "--------------------------------\n",
      "Total entries: 2012\n",
      "\n",
      "Rows removed: 6594\n",
      "Remaining rows: 2012\n"
     ]
    }
   ],
   "source": [
    "def convert_to_list(df, skills_column='skills'):\n",
    "    \"\"\"\n",
    "    Convert the skills column to list format if it is in string format.\n",
    "    \"\"\"\n",
    "    # Check if the first element is a string\n",
    "    if isinstance(df[skills_column].iloc[0], str):\n",
    "        # Use literal_eval to convert string representation of lists into actual lists\n",
    "        df[skills_column] = df[skills_column].apply(literal_eval)\n",
    "\n",
    "\n",
    "def analyze_skills_list_lengths(df, skills_column='skills'):\n",
    "    \"\"\"\n",
    "    Analyze the lengths of skill lists in the specified column.\n",
    "    \"\"\"\n",
    "    # Ensure the skills column contains lists\n",
    "    if not isinstance(df[skills_column].iloc[0], list):\n",
    "        raise ValueError(f\"The '{skills_column}' column does not contain lists. Please check your data format.\")\n",
    "\n",
    "    # Count the lengths of each skill list\n",
    "    skill_lengths = df[skills_column].apply(len)\n",
    "\n",
    "    # Count the occurrences of each length\n",
    "    length_distribution = Counter(skill_lengths)\n",
    "\n",
    "    # Sort the distribution by list length\n",
    "    sorted_distribution = dict(sorted(length_distribution.items()))\n",
    "\n",
    "    return sorted_distribution\n",
    "\n",
    "\n",
    "def print_skills_list_distribution(distribution):\n",
    "    \"\"\"\n",
    "    Print the skills list length distribution in a readable format.\n",
    "    \"\"\"\n",
    "    print(\"Skills List Length Distribution:\")\n",
    "    print(\"--------------------------------\")\n",
    "    for length, count in distribution.items():\n",
    "        print(f\"Lists with length {length}: {count} occurrence{'s' if count > 1 else ''}\")\n",
    "    print(\"--------------------------------\")\n",
    "    print(f\"Total entries: {sum(distribution.values())}\")\n",
    "\n",
    "\n",
    "def process_skills_data(df, skills_column='skills', min_skills=5):\n",
    "    \"\"\"\n",
    "    Process the skills data by dropping rows with skill lists <= 4.\n",
    "    \"\"\"\n",
    "    # Ensure the skills column contains lists\n",
    "    if not isinstance(df[skills_column].iloc[0], list):\n",
    "        raise ValueError(f\"The '{skills_column}' column does not contain lists. Please check your data format.\")\n",
    "\n",
    "    # Filter the DataFrame to keep only rows with skill lists of length > min_skills\n",
    "    df_processed = df[df[skills_column].apply(len) > min_skills]\n",
    "\n",
    "    return df_processed\n",
    "\n",
    "\n",
    "# Convert the 'skills' column to lists if necessary\n",
    "convert_to_list(df, skills_column='skills')\n",
    "\n",
    "print(\"Original dataset:\")\n",
    "original_distribution = analyze_skills_list_lengths(df, skills_column='skills')\n",
    "print_skills_list_distribution(original_distribution)\n",
    "\n",
    "# Process the data to remove rows with 4 or fewer skills\n",
    "df_processed = process_skills_data(df, skills_column='skills', min_skills=4)\n",
    "\n",
    "print(\"\\nProcessed dataset (after removing rows with 4 or fewer skills):\")\n",
    "processed_distribution = analyze_skills_list_lengths(df_processed, skills_column='skills')\n",
    "print_skills_list_distribution(processed_distribution)\n",
    "\n",
    "print(f\"\\nRows removed: {len(df) - len(df_processed)}\")\n",
    "print(f\"Remaining rows: {len(df_processed)}\")"
   ]
  },
  {
   "cell_type": "markdown",
   "id": "3e5cdd83",
   "metadata": {},
   "source": [
    "## 2-Remove rows which target experienced people"
   ]
  },
  {
   "cell_type": "code",
   "execution_count": 60,
   "id": "1fb22d87",
   "metadata": {},
   "outputs": [
    {
     "name": "stdout",
     "output_type": "stream",
     "text": [
      "Number of rows containing 'sr', 'senior', or 'principal': 384\n"
     ]
    },
    {
     "name": "stderr",
     "output_type": "stream",
     "text": [
      "C:\\Users\\user\\AppData\\Local\\Temp\\ipykernel_10720\\1768000718.py:2: SettingWithCopyWarning: \n",
      "A value is trying to be set on a copy of a slice from a DataFrame.\n",
      "Try using .loc[row_indexer,col_indexer] = value instead\n",
      "\n",
      "See the caveats in the documentation: https://pandas.pydata.org/pandas-docs/stable/user_guide/indexing.html#returning-a-view-versus-a-copy\n",
      "  df_processed['Name'] = df_processed['Name'].str.lower()\n"
     ]
    }
   ],
   "source": [
    "# Convert 'Name' column to lowercase\n",
    "df_processed['Name'] = df_processed['Name'].str.lower()\n",
    "\n",
    "# Define the list of words to check for\n",
    "keywords = ['sr', 'senior', 'principal', 'staff']\n",
    "\n",
    "# Find rows that contain any of the keywords\n",
    "mask = df_processed['Name'].str.contains('|'.join(keywords))\n",
    "\n",
    "# Count the number of rows that contain at least one of the keywords\n",
    "num_rows = mask.sum()\n",
    "print(f\"Number of rows containing 'sr', 'senior', or 'principal': {num_rows}\")\n",
    "\n",
    "# Drop the rows that contain these words\n",
    "df_processed_filtered = df_processed[~mask]"
   ]
  },
  {
   "cell_type": "code",
   "execution_count": 61,
   "id": "a7cb12b5",
   "metadata": {},
   "outputs": [
    {
     "data": {
      "text/html": [
       "<div>\n",
       "<style scoped>\n",
       "    .dataframe tbody tr th:only-of-type {\n",
       "        vertical-align: middle;\n",
       "    }\n",
       "\n",
       "    .dataframe tbody tr th {\n",
       "        vertical-align: top;\n",
       "    }\n",
       "\n",
       "    .dataframe thead th {\n",
       "        text-align: right;\n",
       "    }\n",
       "</style>\n",
       "<table border=\"1\" class=\"dataframe\">\n",
       "  <thead>\n",
       "    <tr style=\"text-align: right;\">\n",
       "      <th></th>\n",
       "      <th>Name</th>\n",
       "      <th>Summary</th>\n",
       "      <th>skills</th>\n",
       "    </tr>\n",
       "  </thead>\n",
       "  <tbody>\n",
       "    <tr>\n",
       "      <th>24</th>\n",
       "      <td>software engineer internship</td>\n",
       "      <td>Experience developing in a high-level programm...</td>\n",
       "      <td>[java, scala, merchant, c#, ruby, python]</td>\n",
       "    </tr>\n",
       "    <tr>\n",
       "      <th>25</th>\n",
       "      <td>software engineer intern (summer 2020)</td>\n",
       "      <td>Possess knowledge of software engineering proc...</td>\n",
       "      <td>[Go, java, c++, gin, python]</td>\n",
       "    </tr>\n",
       "    <tr>\n",
       "      <th>35</th>\n",
       "      <td>software engineer summer intern - java</td>\n",
       "      <td>Fluency with Java, SQL, Perl/Python, or C++.Fa...</td>\n",
       "      <td>[scripting, java, sql, perl, c++, prototyping,...</td>\n",
       "    </tr>\n",
       "    <tr>\n",
       "      <th>39</th>\n",
       "      <td>software engineer - backend, c++</td>\n",
       "      <td>In this position you'll be mostly using Java a...</td>\n",
       "      <td>[java, c++, c, gin, javascript, python]</td>\n",
       "    </tr>\n",
       "    <tr>\n",
       "      <th>48</th>\n",
       "      <td>ml infrastructure software engineer</td>\n",
       "      <td>You have working knowledge of an OOP language ...</td>\n",
       "      <td>[scripting, java, scala, oop, machine learning...</td>\n",
       "    </tr>\n",
       "  </tbody>\n",
       "</table>\n",
       "</div>"
      ],
      "text/plain": [
       "                                      Name  \\\n",
       "24            software engineer internship   \n",
       "25  software engineer intern (summer 2020)   \n",
       "35  software engineer summer intern - java   \n",
       "39        software engineer - backend, c++   \n",
       "48     ml infrastructure software engineer   \n",
       "\n",
       "                                              Summary  \\\n",
       "24  Experience developing in a high-level programm...   \n",
       "25  Possess knowledge of software engineering proc...   \n",
       "35  Fluency with Java, SQL, Perl/Python, or C++.Fa...   \n",
       "39  In this position you'll be mostly using Java a...   \n",
       "48  You have working knowledge of an OOP language ...   \n",
       "\n",
       "                                               skills  \n",
       "24          [java, scala, merchant, c#, ruby, python]  \n",
       "25                       [Go, java, c++, gin, python]  \n",
       "35  [scripting, java, sql, perl, c++, prototyping,...  \n",
       "39            [java, c++, c, gin, javascript, python]  \n",
       "48  [scripting, java, scala, oop, machine learning...  "
      ]
     },
     "execution_count": 61,
     "metadata": {},
     "output_type": "execute_result"
    }
   ],
   "source": [
    "df_processed_filtered.head()"
   ]
  },
  {
   "cell_type": "code",
   "execution_count": 62,
   "id": "d76b2680",
   "metadata": {},
   "outputs": [
    {
     "name": "stdout",
     "output_type": "stream",
     "text": [
      "<class 'pandas.core.frame.DataFrame'>\n",
      "Index: 1628 entries, 24 to 8601\n",
      "Data columns (total 3 columns):\n",
      " #   Column   Non-Null Count  Dtype \n",
      "---  ------   --------------  ----- \n",
      " 0   Name     1628 non-null   object\n",
      " 1   Summary  1628 non-null   object\n",
      " 2   skills   1628 non-null   object\n",
      "dtypes: object(3)\n",
      "memory usage: 50.9+ KB\n"
     ]
    }
   ],
   "source": [
    "df_processed_filtered.info()"
   ]
  },
  {
   "cell_type": "markdown",
   "id": "095a88d4",
   "metadata": {},
   "source": [
    "## 3-Drop rows with duplicated skills"
   ]
  },
  {
   "cell_type": "code",
   "execution_count": 63,
   "id": "9d4e34c6",
   "metadata": {},
   "outputs": [
    {
     "name": "stdout",
     "output_type": "stream",
     "text": [
      "Original DataFrame:\n",
      "                                              Name  \\\n",
      "24                    software engineer internship   \n",
      "25          software engineer intern (summer 2020)   \n",
      "35          software engineer summer intern - java   \n",
      "39                software engineer - backend, c++   \n",
      "48             ml infrastructure software engineer   \n",
      "...                                            ...   \n",
      "8596        software development engineer ii - ios   \n",
      "8597               software engineering - frontend   \n",
      "8598                  software engineer - back end   \n",
      "8599              infrastructure software engineer   \n",
      "8601  software engineer - tools and infrastructure   \n",
      "\n",
      "                                                Summary  \\\n",
      "24    Experience developing in a high-level programm...   \n",
      "25    Possess knowledge of software engineering proc...   \n",
      "35    Fluency with Java, SQL, Perl/Python, or C++.Fa...   \n",
      "39    In this position you'll be mostly using Java a...   \n",
      "48    You have working knowledge of an OOP language ...   \n",
      "...                                                 ...   \n",
      "8596  Here at Hotwire, you control your destiny.Lead...   \n",
      "8597  Comfortable navigating backend code in RoR or ...   \n",
      "8598  What You Get To Do Every Day:A great 401(k) pl...   \n",
      "8599  Highly skilled at developing and debugging in ...   \n",
      "8601  Proficient in Java/Scala, C/C++, or Python.Exp...   \n",
      "\n",
      "                                                 skills  \n",
      "24            [java, scala, merchant, c#, ruby, python]  \n",
      "25                         [Go, java, c++, gin, python]  \n",
      "35    [scripting, java, sql, perl, c++, prototyping,...  \n",
      "39              [java, c++, c, gin, javascript, python]  \n",
      "48    [scripting, java, scala, oop, machine learning...  \n",
      "...                                                 ...  \n",
      "8596  [React, java, visual, Jenkins, ply, data archi...  \n",
      "8597  [scripting, React, ply, js, ai, typescript, mo...  \n",
      "8598  [React, postgresql, plan, ply, aws, Node.js, t...  \n",
      "8599                            [Go, java, c++, c, gin]  \n",
      "8601  [java, docker, scala, aws, GCP, kubernetes, c+...  \n",
      "\n",
      "[1628 rows x 3 columns]\n"
     ]
    }
   ],
   "source": [
    "def are_lists_similar(list1, list2, similarity_threshold=0.8):\n",
    "    \"\"\"\n",
    "    Compare two lists and return True if they are similar based on the threshold.\n",
    "    \"\"\"\n",
    "    set1, set2 = set(list1), set(list2)\n",
    "    intersection = set1.intersection(set2)\n",
    "    union = set1.union(set2)\n",
    "    jaccard_similarity = len(intersection) / len(union)\n",
    "    return jaccard_similarity >= similarity_threshold\n",
    "\n",
    "\n",
    "def remove_duplicate_skills(df_processed_filtered, similarity_threshold=0.8):\n",
    "    \"\"\"\n",
    "    Remove rows with duplicate or similar skill lists and single-skill lists.\n",
    "    \"\"\"\n",
    "    # First, remove rows where the skills list has only one item\n",
    "    df_processed_filtered = df_processed_filtered[df_processed_filtered['skills'].apply(len) > 1].copy()\n",
    "\n",
    "    # Convert skills to frozenset for hashability\n",
    "    df_processed_filtered['skills_set'] = df_processed_filtered['skills'].apply(frozenset)\n",
    "\n",
    "    # Create a dictionary to store unique skill sets\n",
    "    unique_skills = {}\n",
    "    rows_to_keep = []\n",
    "\n",
    "    for index, row in df_processed_filtered.iterrows():\n",
    "        skills = row['skills_set']\n",
    "        is_unique = True\n",
    "\n",
    "        # Check against existing unique skills\n",
    "        for unique_skill_set in unique_skills:\n",
    "            if are_lists_similar(skills, unique_skill_set, similarity_threshold):\n",
    "                is_unique = False\n",
    "                break\n",
    "\n",
    "        if is_unique:\n",
    "            unique_skills[skills] = index\n",
    "            rows_to_keep.append(index)\n",
    "\n",
    "    # Create a new DataFrame with only the unique rows\n",
    "    df_processed_filtered_unique = df_processed_filtered.loc[rows_to_keep].copy()\n",
    "\n",
    "    # Drop the temporary 'skills_set' column\n",
    "    df_processed_filtered_unique = df_processed_filtered_unique.drop('skills_set', axis=1)\n",
    "\n",
    "    return df_processed_filtered_unique\n",
    "\n",
    "\n",
    "print(\"Original DataFrame:\")\n",
    "print(df_processed_filtered)\n",
    "\n",
    "df_processed_filtered_unique = remove_duplicate_skills(df_processed_filtered, similarity_threshold=0.8)"
   ]
  },
  {
   "cell_type": "code",
   "execution_count": 64,
   "id": "3d913604",
   "metadata": {},
   "outputs": [
    {
     "name": "stdout",
     "output_type": "stream",
     "text": [
      "\n",
      "DataFrame after removing similar skill lists and single-skill lists:\n"
     ]
    },
    {
     "data": {
      "text/html": [
       "<div>\n",
       "<style scoped>\n",
       "    .dataframe tbody tr th:only-of-type {\n",
       "        vertical-align: middle;\n",
       "    }\n",
       "\n",
       "    .dataframe tbody tr th {\n",
       "        vertical-align: top;\n",
       "    }\n",
       "\n",
       "    .dataframe thead th {\n",
       "        text-align: right;\n",
       "    }\n",
       "</style>\n",
       "<table border=\"1\" class=\"dataframe\">\n",
       "  <thead>\n",
       "    <tr style=\"text-align: right;\">\n",
       "      <th></th>\n",
       "      <th>Name</th>\n",
       "      <th>Summary</th>\n",
       "      <th>skills</th>\n",
       "    </tr>\n",
       "  </thead>\n",
       "  <tbody>\n",
       "    <tr>\n",
       "      <th>24</th>\n",
       "      <td>software engineer internship</td>\n",
       "      <td>Experience developing in a high-level programm...</td>\n",
       "      <td>[java, scala, merchant, c#, ruby, python]</td>\n",
       "    </tr>\n",
       "    <tr>\n",
       "      <th>25</th>\n",
       "      <td>software engineer intern (summer 2020)</td>\n",
       "      <td>Possess knowledge of software engineering proc...</td>\n",
       "      <td>[Go, java, c++, gin, python]</td>\n",
       "    </tr>\n",
       "    <tr>\n",
       "      <th>35</th>\n",
       "      <td>software engineer summer intern - java</td>\n",
       "      <td>Fluency with Java, SQL, Perl/Python, or C++.Fa...</td>\n",
       "      <td>[scripting, java, sql, perl, c++, prototyping,...</td>\n",
       "    </tr>\n",
       "    <tr>\n",
       "      <th>39</th>\n",
       "      <td>software engineer - backend, c++</td>\n",
       "      <td>In this position you'll be mostly using Java a...</td>\n",
       "      <td>[java, c++, c, gin, javascript, python]</td>\n",
       "    </tr>\n",
       "    <tr>\n",
       "      <th>48</th>\n",
       "      <td>ml infrastructure software engineer</td>\n",
       "      <td>You have working knowledge of an OOP language ...</td>\n",
       "      <td>[scripting, java, scala, oop, machine learning...</td>\n",
       "    </tr>\n",
       "  </tbody>\n",
       "</table>\n",
       "</div>"
      ],
      "text/plain": [
       "                                      Name  \\\n",
       "24            software engineer internship   \n",
       "25  software engineer intern (summer 2020)   \n",
       "35  software engineer summer intern - java   \n",
       "39        software engineer - backend, c++   \n",
       "48     ml infrastructure software engineer   \n",
       "\n",
       "                                              Summary  \\\n",
       "24  Experience developing in a high-level programm...   \n",
       "25  Possess knowledge of software engineering proc...   \n",
       "35  Fluency with Java, SQL, Perl/Python, or C++.Fa...   \n",
       "39  In this position you'll be mostly using Java a...   \n",
       "48  You have working knowledge of an OOP language ...   \n",
       "\n",
       "                                               skills  \n",
       "24          [java, scala, merchant, c#, ruby, python]  \n",
       "25                       [Go, java, c++, gin, python]  \n",
       "35  [scripting, java, sql, perl, c++, prototyping,...  \n",
       "39            [java, c++, c, gin, javascript, python]  \n",
       "48  [scripting, java, scala, oop, machine learning...  "
      ]
     },
     "execution_count": 64,
     "metadata": {},
     "output_type": "execute_result"
    }
   ],
   "source": [
    "print(\"\\nDataFrame after removing similar skill lists and single-skill lists:\")\n",
    "df_processed_filtered_unique.head()"
   ]
  },
  {
   "cell_type": "code",
   "execution_count": 65,
   "id": "fd34711b",
   "metadata": {},
   "outputs": [
    {
     "name": "stdout",
     "output_type": "stream",
     "text": [
      "<class 'pandas.core.frame.DataFrame'>\n",
      "Index: 166 entries, 24 to 8300\n",
      "Data columns (total 3 columns):\n",
      " #   Column   Non-Null Count  Dtype \n",
      "---  ------   --------------  ----- \n",
      " 0   Name     166 non-null    object\n",
      " 1   Summary  166 non-null    object\n",
      " 2   skills   166 non-null    object\n",
      "dtypes: object(3)\n",
      "memory usage: 5.2+ KB\n"
     ]
    }
   ],
   "source": [
    "df_processed_filtered_unique.info()"
   ]
  },
  {
   "cell_type": "code",
   "execution_count": 66,
   "id": "ff928384",
   "metadata": {},
   "outputs": [
    {
     "name": "stdout",
     "output_type": "stream",
     "text": [
      "<class 'pandas.core.frame.DataFrame'>\n",
      "Index: 166 entries, 24 to 8300\n",
      "Data columns (total 2 columns):\n",
      " #   Column  Non-Null Count  Dtype \n",
      "---  ------  --------------  ----- \n",
      " 0   Name    166 non-null    object\n",
      " 1   skills  166 non-null    object\n",
      "dtypes: object(2)\n",
      "memory usage: 3.9+ KB\n"
     ]
    }
   ],
   "source": [
    "df_processed_filtered_unique = df_processed_filtered_unique.drop(columns=['Summary'], axis=1)\n",
    "df_processed_filtered_unique.info()"
   ]
  },
  {
   "cell_type": "code",
   "execution_count": 67,
   "id": "21520390",
   "metadata": {},
   "outputs": [],
   "source": [
    "df_processed_filtered_unique.to_csv('Final.csv', index=False)"
   ]
  },
  {
   "cell_type": "code",
   "execution_count": 68,
   "id": "027baa7a",
   "metadata": {},
   "outputs": [
    {
     "data": {
      "text/html": [
       "<div>\n",
       "<style scoped>\n",
       "    .dataframe tbody tr th:only-of-type {\n",
       "        vertical-align: middle;\n",
       "    }\n",
       "\n",
       "    .dataframe tbody tr th {\n",
       "        vertical-align: top;\n",
       "    }\n",
       "\n",
       "    .dataframe thead th {\n",
       "        text-align: right;\n",
       "    }\n",
       "</style>\n",
       "<table border=\"1\" class=\"dataframe\">\n",
       "  <thead>\n",
       "    <tr style=\"text-align: right;\">\n",
       "      <th></th>\n",
       "      <th>Name</th>\n",
       "      <th>skills</th>\n",
       "    </tr>\n",
       "  </thead>\n",
       "  <tbody>\n",
       "    <tr>\n",
       "      <th>0</th>\n",
       "      <td>software engineer internship</td>\n",
       "      <td>['java', 'scala', 'merchant', 'c#', 'ruby', 'p...</td>\n",
       "    </tr>\n",
       "    <tr>\n",
       "      <th>1</th>\n",
       "      <td>software engineer intern (summer 2020)</td>\n",
       "      <td>['Go', 'java', 'c++', 'gin', 'python']</td>\n",
       "    </tr>\n",
       "    <tr>\n",
       "      <th>2</th>\n",
       "      <td>software engineer summer intern - java</td>\n",
       "      <td>['scripting', 'java', 'sql', 'perl', 'c++', 'p...</td>\n",
       "    </tr>\n",
       "    <tr>\n",
       "      <th>3</th>\n",
       "      <td>software engineer - backend, c++</td>\n",
       "      <td>['java', 'c++', 'c', 'gin', 'javascript', 'pyt...</td>\n",
       "    </tr>\n",
       "    <tr>\n",
       "      <th>4</th>\n",
       "      <td>ml infrastructure software engineer</td>\n",
       "      <td>['scripting', 'java', 'scala', 'oop', 'machine...</td>\n",
       "    </tr>\n",
       "  </tbody>\n",
       "</table>\n",
       "</div>"
      ],
      "text/plain": [
       "                                     Name  \\\n",
       "0            software engineer internship   \n",
       "1  software engineer intern (summer 2020)   \n",
       "2  software engineer summer intern - java   \n",
       "3        software engineer - backend, c++   \n",
       "4     ml infrastructure software engineer   \n",
       "\n",
       "                                              skills  \n",
       "0  ['java', 'scala', 'merchant', 'c#', 'ruby', 'p...  \n",
       "1             ['Go', 'java', 'c++', 'gin', 'python']  \n",
       "2  ['scripting', 'java', 'sql', 'perl', 'c++', 'p...  \n",
       "3  ['java', 'c++', 'c', 'gin', 'javascript', 'pyt...  \n",
       "4  ['scripting', 'java', 'scala', 'oop', 'machine...  "
      ]
     },
     "execution_count": 68,
     "metadata": {},
     "output_type": "execute_result"
    }
   ],
   "source": [
    "df = pd.read_csv('Final.csv')\n",
    "df.head()"
   ]
  },
  {
   "cell_type": "code",
   "execution_count": 69,
   "id": "a232f5a7",
   "metadata": {},
   "outputs": [
    {
     "name": "stdout",
     "output_type": "stream",
     "text": [
      "<class 'pandas.core.frame.DataFrame'>\n",
      "RangeIndex: 166 entries, 0 to 165\n",
      "Data columns (total 2 columns):\n",
      " #   Column  Non-Null Count  Dtype \n",
      "---  ------  --------------  ----- \n",
      " 0   Name    166 non-null    object\n",
      " 1   skills  166 non-null    object\n",
      "dtypes: object(2)\n",
      "memory usage: 2.7+ KB\n"
     ]
    }
   ],
   "source": [
    "df.info()"
   ]
  },
  {
   "cell_type": "markdown",
   "id": "cc6dd942",
   "metadata": {},
   "source": [
    "# Recommendation System"
   ]
  },
  {
   "cell_type": "code",
   "execution_count": 70,
   "id": "14b506ee",
   "metadata": {},
   "outputs": [
    {
     "name": "stdout",
     "output_type": "stream",
     "text": [
      "Top recommendations for skills: python, django, aws\n",
      "\n",
      "Job Title: software engineer in test (swit)\n",
      "Matching Skills: 3 out of 3\n",
      "Similarity Score: 0.52\n",
      "Job Skills: docker, aws, apache airflow, django, nodejs, python\n",
      "--------------------------------------------------\n",
      "Job Title: software engineer - mobile/back-end\n",
      "Matching Skills: 3 out of 3\n",
      "Similarity Score: 0.27\n",
      "Job Skills: scripting, Go, gin, aws, data architecture, Object-oriented programming, Node.js, ai, django, algorithms, ruby, machine learning, Git, rest, database, javascript, python\n",
      "--------------------------------------------------\n"
     ]
    },
    {
     "name": "stderr",
     "output_type": "stream",
     "text": [
      "C:\\Users\\user\\AppData\\Local\\Temp\\ipykernel_10720\\3107652954.py:22: SettingWithCopyWarning: \n",
      "A value is trying to be set on a copy of a slice from a DataFrame.\n",
      "Try using .loc[row_indexer,col_indexer] = value instead\n",
      "\n",
      "See the caveats in the documentation: https://pandas.pydata.org/pandas-docs/stable/user_guide/indexing.html#returning-a-view-versus-a-copy\n",
      "  df_filtered['similarity'] = similarity_scores.flatten()\n"
     ]
    }
   ],
   "source": [
    "def recommend_jobs(user_skills, df, top_n=5):\n",
    "    user_skills_set = set(user_skills.split(', '))\n",
    "\n",
    "    def count_matching_skills(job_skills):\n",
    "        job_skills_set = set(eval(job_skills))\n",
    "        return len(user_skills_set.intersection(job_skills_set))\n",
    "\n",
    "    # Count matching skills for each job\n",
    "    df['matching_skills'] = df['skills'].apply(count_matching_skills)\n",
    "\n",
    "    # Start with all skills and gradually reduce\n",
    "    for required_skills in range(len(user_skills_set), 0, -1):\n",
    "        df_filtered = df[df['matching_skills'] >= required_skills]\n",
    "\n",
    "        if not df_filtered.empty:\n",
    "            vectorizer = TfidfVectorizer()\n",
    "\n",
    "            job_skills_tfidf = vectorizer.fit_transform(df_filtered['skills'].apply(lambda x: ' '.join(eval(x))))\n",
    "            user_skills_tfidf = vectorizer.transform([user_skills])\n",
    "            similarity_scores = cosine_similarity(user_skills_tfidf, job_skills_tfidf)\n",
    "\n",
    "            df_filtered['similarity'] = similarity_scores.flatten()\n",
    "\n",
    "            # Sort jobs by similarity score (descending)\n",
    "            df_sorted = df_filtered.sort_values(by=['matching_skills', 'similarity'], ascending=[False, False])\n",
    "\n",
    "            # Get the top N recommendations\n",
    "            top_recommendations = df_sorted.head(top_n)[['Name', 'matching_skills', 'similarity', 'skills']]\n",
    "            return top_recommendations\n",
    "\n",
    "    # If no jobs found even with one skill, return empty DataFrame\n",
    "    return pd.DataFrame(columns=['Name', 'matching_skills', 'similarity', 'skills'])\n",
    "\n",
    "\n",
    "# Example\n",
    "# user_skills = \"python, data analysis, machine learning, sql, javascript, aws\"\n",
    "user_skills = \"python, django, aws\"\n",
    "\n",
    "recommendations = recommend_jobs(user_skills, df)\n",
    "print(f\"Top recommendations for skills: {user_skills}\\n\")\n",
    "if not recommendations.empty:\n",
    "    for index, row in recommendations.iterrows():\n",
    "        print(f\"Job Title: {row['Name']}\")\n",
    "        print(f\"Matching Skills: {row['matching_skills']} out of {len(user_skills.split(', '))}\")\n",
    "        print(f\"Similarity Score: {row['similarity']:.2f}\")\n",
    "        print(f\"Job Skills: {', '.join(eval(row['skills']))}\")\n",
    "        print(\"-\" * 50)\n",
    "else:\n",
    "    print(\"No matching jobs found.\")"
   ]
  }
 ],
 "metadata": {
  "kernelspec": {
   "display_name": "Python 3 (ipykernel)",
   "language": "python",
   "name": "python3"
  },
  "language_info": {
   "codemirror_mode": {
    "name": "ipython",
    "version": 3
   },
   "file_extension": ".py",
   "mimetype": "text/x-python",
   "name": "python",
   "nbconvert_exporter": "python",
   "pygments_lexer": "ipython3",
   "version": "3.11.2"
  }
 },
 "nbformat": 4,
 "nbformat_minor": 5
}
